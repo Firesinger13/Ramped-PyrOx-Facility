{
 "cells": [
  {
   "cell_type": "markdown",
   "metadata": {},
   "source": [
    "# Acid Treatment of Organic Samples to Remove Carbonate Minerals\n",
    " \n",
    " ## Rosenheim Laboratory\n",
    " \n",
    " **Introduction**: In order to isotopically analyze organic matter in a sample, we want to remove mineral carbonates (biogenic and detrital, calcium and other).  The reason for this is becasue carbonate minerals are generally created by different processes than organic matter and thus different fractionation processes are responsible for their isotopic signatures.  Furthermore, if you are interested in the radiocarbon age interpretation of the $^{14}$C/$^{12}$C ratio of the samples, then removal of mineral carbonates eliminates a source of ambiguity that can arise if the carbonates are formed at different times and by different processes than the organic matter.\n",
    " \n",
    " Acid treatment is done by acid rinsing in our laboratory.  Other labs use a more efficient method of *acid fumigation*, which protects some water soluble organic matter.  However, that method does not produce good results for Ramped PyrOx analysis.  Because of that, we prefer to use acid rinsing for both typical Elemental Analyzer analysis and for Ramped PyrOx analysis. \n",
    " \n",
    " **Objective**: To calculate the amount of acid needed to add to a given sample for removal of mineral carbonates.\n",
    " \n",
    " **Materials**: \n",
    " >- Solid sample (soil, sediment)\n",
    " >- Balance \n",
    " >- Clean glass beaker or centrifuge tube\n",
    " >- Centrifuge tube rack if using the centrifuge tube instead of beaker. \n",
    " >- 10% (1N) Hydrochloric acid (HCl (aq))\n",
    " >- Glass stir bar, cleaned for organic matter contamination\n",
    " \n",
    " **Outline of Procedure**:\n",
    " We first assume that the mass of the sample is *entirely calcium carbonate*. Why? Calcium carbonate is the most abundant carbonate mineral on the surface of Earth, and assuming that your sample is 100% calcium carbonate maximized the chance that we will add acid in excess to neutralize all mineral carbonates in your sample.  \n",
    " \n",
    " We calculate the number of moles of calcium carboante from the mass of sample, in grams, as follows:\n",
    " \n",
    " > `moles_sample = mass_sample/100`\n",
    " \n",
    " moles_sample is the sample size in moles of calcium carbonate using the assumption all of your sample is made of that mineral. This is divided by 100 g/mol, the formula weight of calcium carbonate. \n",
    "\n",
    " Data are entered into the calculation cell below by pointing it to a .csv file on your computer. You can simply navigate to that file in a Finder or Windows Explorer window and copy the path, pasting it below between single quotes. The first few lines of this cell load packages that help Python make these calculations. The default file is ` sample_masses_example.csv ` which is saved in the directory of this notebook, hence it does not need a full file path.  You will have to change that file name between the single quotes to the file path on your computer. \n",
    " \n",
    " **Sample mass are assumed by this program to be in grams!**\n",
    " \n",
    " \n"
   ]
  },
  {
   "cell_type": "code",
   "execution_count": 9,
   "metadata": {
    "tags": []
   },
   "outputs": [
    {
     "output_type": "stream",
     "name": "stdout",
     "text": [
      "If your samples were 100% CaCO3, their molar quantities would be as follows: \n 0    0.0490\n1    0.0110\n2    0.0025\nName: mass_sample, dtype: float64\n"
     ]
    }
   ],
   "source": [
    "#Import python packages\n",
    "\n",
    "import pandas as pd\n",
    "\n",
    "#Change text between single quotes to your file path. \n",
    "data_df = pd.read_csv('sample_masses_example.csv')\n",
    "#Data must have a column named 'mass_sample', or the text between single quotes will need to be changed to point to the column in which you have your mass data.\n",
    "mass_sample = data_df['mass_sample']\n",
    "\n",
    "#Default is the molecular weight of CaCO3. If you think your sample has other carbonates, you may change this, however we are making a very conservative estimate of carbonate mineral content in most sediments.  Calculate the moles of sample assuming CaCO3;\n",
    "molecular_weight = 100\n",
    "\n",
    "moles_sample = mass_sample/molecular_weight\n",
    "\n",
    "#Print result\n",
    "print(\"If your samples were 100% CaCO3, their molar quantities would be as follows: \\n\", str(round(moles_sample, 4)))"
   ]
  },
  {
   "cell_type": "markdown",
   "metadata": {},
   "source": [
    "## How much acid is needed?\n",
    "  \n",
    "   To neutralize any carbonate minerals in your sample(s), a volume of acid is needed. We default to 10% HCl, but that can be changed in the code below.  Beware - most all of the previous runs in the Tulane and USF Ramped PyrOx facilities have been on samples treated with 10% HCl, and the concentration of acid can cause different reaction shapes (kinetics) when run on the \"Dirt Burner.\" Any change to acid concentration must first be well thought out - results may not be comparable to previous results!\n",
    "   \n",
    "   To calculate the amount of acid, we use the stoichiometry of 2 mol HCl neutralizing 1 mol of CaCO${_3}$:\n",
    "   \n",
    "   > `CaCO`${_3}$` + 2HCl  `&rarr;`  CaCl`${_2}$` + H`${_2}$`O) + CO`${_2}$ \n",
    "   >\n",
    "   > `moles_sample x  2 mol (HCl)/1 mol (CaCO`${_3}$`) = 2 x moles_sample (because we are assuming that it is entirely CaCO`${_3}$`)`\n",
    "   >\n",
    "   \n",
    "   Finally, we convert that quantity of moles of HCl to a volume, assuming 10% HCl.  We evaluate this as mL of N% HCl because that is more practical for laboratory applications that may involve other concentrations, however these cases should be rare.  From a practical standpoint, we refer to concentrations of HCl in percentages because this translates well in the laboratory (i.e. 10% HCl is 10 mL of concentrate in 100 mL total solution).  It is important to know that concentrated HCl is listed as 36% HCl, and that translates to 11.65 M solution of HCl.  A 10% solution of that, then, is 1.165 M.\n",
    "   \n",
    "   > `mL (`$N$`% HCl) = 2 x mols_sample x [1 L (HCL concentrate) / 11.65 mol (HCl)] x [1000 mL (HCl concentrate) / L (HCl concentrate)] x [100 mL (`$N$`% HCl) /`$N$`mL( HCl concentrate) ]`\n",
    "   >\n",
    "   >...where $N$%(HCl) is the dilution of HCl used. The number N is equal to the percentage (not proportion) used to represent the acid concentration. \n",
    "   \n",
    " Below, the number $N$ can be changed if you are using a different concentration, but beware as the note above states!\n",
    " \n",
    " \n"
   ]
  },
  {
   "cell_type": "code",
   "execution_count": 33,
   "metadata": {
    "tags": []
   },
   "outputs": [
    {
     "output_type": "stream",
     "name": "stdout",
     "text": [
      "The volumes of 10% HCl you need for each sample are listed below:\n 0    84.120172\n1    18.884120\n2     4.291845\nName: mass_sample, dtype: float64\n"
     ]
    }
   ],
   "source": [
    "#Default concentration of HCl (conc_HCl) is 10%. Please consult with PI before changing this on the next line!\n",
    "conc_HCl = 10\n",
    "\n",
    "#Calculate the number of mL of HCl at a concentration of conc_HCl\n",
    "mL_HCl = 2*moles_sample * (1/11.65) * (1000/1) * (100/conc_HCl)\n",
    "\n",
    "\n",
    "#Print the mL_HCl values:\n",
    "print(('The volumes of ' + str(conc_HCl) + '% HCl you need for each sample are listed below:\\n'), mL_HCl )"
   ]
  },
  {
   "cell_type": "code",
   "execution_count": 34,
   "metadata": {},
   "outputs": [
    {
     "output_type": "stream",
     "name": "stdout",
     "text": [
      "               sample_name  mass_sample depth_in_core  \\\n0       MISS-20120909-0.3D         4.90           NaN   \n1  SLM-1801_01UW-A 10-14cm         1.10          13.5   \n2             UFU_20181121         0.25         13-15   \n\n                                              notes  mL_10%_HCl  \n0         mass in grams, no depth - filtered sample   84.120172  \n1  mass in grams, depth is center depth of interval   18.884120  \n2                        mass in grams, depth in cm    4.291845  \n"
     ]
    }
   ],
   "source": [
    "#Use this cell if it is more convenient to print out the volumes of HCl needed to acidify your samples. This cell asks for a directory and filename in order to save a .csv file which can be opened in Excel or read into Pandas. \n",
    "\n",
    "output_df = data_df\n",
    "new_column_name = ['mL_' + str(conc_HCl) + '%_HCl']\n",
    "output_df[new_column_name] = mL_HCl\n",
    "print(output_df.head())\n",
    "\n",
    "#Save the dataframe with a new column to a .csv file in the given directory:\n",
    "filepath = 'add_your_directory_here'\n",
    "#delete the `#` at the left side of the line below to activate saving.\n",
    "#output_df.to_csv(filepath)\n",
    "\n"
   ]
  },
  {
   "cell_type": "markdown",
   "metadata": {},
   "source": [
    "# Procedure\n",
    "## Supplies needed\n",
    "* 10% HCl acid - 10 mL of HCl concentrate brought up to 100 mL with DI H$_{2}$O.\n",
    "* Acid test papers, pH range 0-7 (at least)\n",
    "* Pasteur pipettes$^{1}$\n",
    "   * Baked out at 525$^{o}$C\n",
    "* Glass stir rods$^{1}$\n",
    "   * Baked out at 525$^{o}$C\n",
    "* Centrifuge tubes or beakers$^{2}$\n",
    "   * Baked out at 525$^{o}$C\n",
    "* DI H$_{2}$O \n",
    "\n",
    "$^{1}$Use the same number as the number of samples to avoid cross-contamination\n",
    "$^{2}$Volume calculated above will determine whether you can use one or more centrifuge tubes, or beakers. Those methods are differentiated below.\n",
    "\n",
    "## Steps\n",
    "1. Add samples to labeled centrifuge tubes/beakers.\n",
    "   * Leave enough space for effervescence to expand volume of sample slurry.\n",
    "2. Add acid volume calculated above to each samples.\n",
    "3. Observe and note whether samples effervesce noticeably.\n",
    "4. Wait until samples stop effervescing, agitating the samples to determine whether you can invoke effervescence.\n",
    "5. Settle solids from liquid\n",
    "   * If in centrifuge tubes, centrifuge at 1300 rpm.\n",
    "   * If in beakers, let the samples settle out naturally - this can take several hours.\n",
    "6. Separate liquid supernatant from solid pellet\n",
    "   * Pasteur pipettes can used with a bulb or with the aspirator pump to draw off the liquid carefully. Do not disturb the sediment, or you will have to repeat step 5.\n",
    "7. Test the pH of the supernatant using pipette tips (wet with supernatant) and acid test papers.\n",
    "8. Add similar volume of DI H$_{2}$O to the calculated volume of acid, and repeat steps 5-7.\n",
    "9. When pH reaches 7 (which rarely happens) or plateaus above 4.5, samples can be dried. \n",
    "\n",
    "## Notes\n",
    "It is wise to record what volumes of acid and water (approximate for water) that you used and how many rinse steps it took to return to neutral. Neutral is seldom reached because DI H$_{2}$O has too few ions to measure on the test paper. You should also note which samples effervesce and for how long. "
   ]
  },
  {
   "cell_type": "markdown",
   "metadata": {},
   "source": [
    "## Publication Note\n",
    "Note that for publication of your results, you will not publish in %HCl.  Instead, we general use molarity or normality, with preference on normality.  Molarity is the number of moles of solute per liter; normality is the number of moles of H${^+}$ that is dissolved. For HCl, a 1 M solution is a 1 N solution because there is only one mole of H${^+}$ that dissolved for every mole of HCl!  Also note that we generally publish \"1N HCl\" for 10% HCl which is only true if you round to the nearest integer.  We prepare this acid with a graduated cylinder, so it is only appropriate to use one significant digit (hence 1 N). \n"
   ]
  }
 ],
 "metadata": {
  "kernelspec": {
   "name": "python3",
   "display_name": "Python 3.9.1 64-bit"
  },
  "language_info": {
   "codemirror_mode": {
    "name": "ipython",
    "version": 3
   },
   "file_extension": ".py",
   "mimetype": "text/x-python",
   "name": "python",
   "nbconvert_exporter": "python",
   "pygments_lexer": "ipython3",
   "version": "3.9.1"
  },
  "interpreter": {
   "hash": "5a06ee7dfc3be38b346c7eeec74a298f806dd2de984ba6d6514b00d6ac1942b5"
  }
 },
 "nbformat": 4,
 "nbformat_minor": 4
}